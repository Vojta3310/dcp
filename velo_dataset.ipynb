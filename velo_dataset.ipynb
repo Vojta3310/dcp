{
 "cells": [
  {
   "cell_type": "code",
   "execution_count": 17,
   "metadata": {},
   "outputs": [],
   "source": [
    "import pandas as pd\n",
    "import torch.utils.data as tdata\n",
    "import numpy as np\n",
    "import pykitti\n",
    "\n",
    "import util"
   ]
  },
  {
   "cell_type": "code",
   "execution_count": 5,
   "metadata": {},
   "outputs": [],
   "source": [
    "basedir = 'dataset/'\n",
    "sequence = '00'"
   ]
  },
  {
   "cell_type": "code",
   "execution_count": 37,
   "metadata": {},
   "outputs": [],
   "source": [
    "class OdometryDataset(tdata.Dataset):\n",
    "    def __init__(self, basedir, sequence, n_points):\n",
    "        self._data = pykitti.odometry(basedir, sequence)\n",
    "        self._velo = list(self._data.velo)\n",
    "        self._poses = self._data.poses\n",
    "        self._n_points = n_points\n",
    "    \n",
    "    def __getitem__(self, i):\n",
    "        a_cloud = self._velo[i][:self._n_points]\n",
    "        b_cloud = self._velo[i+1][:self._n_points]\n",
    "        a_R = self._poses[i][:3, :3]\n",
    "        a_T = self._poses[i][:3, 3]\n",
    "        b_R = self._poses[i+1][:3, :3]\n",
    "        b_T = self._poses[i+1][:3, 3]\n",
    "        \n",
    "        R_ab = b_R - a_R\n",
    "        R_ba = -R_ab\n",
    "        E_ab = util.npmat2euler(R_ab.reshape((1, 3, 3)), seq='xyz')\n",
    "        E_ba = util.npmat2euler(R_ba.reshape((1, 3, 3)), seq='xyz')\n",
    "        T_ab = b_T - a_T\n",
    "        T_ba = -T_ab\n",
    "        \n",
    "        a_cloud = a_cloud.T[:3, :]\n",
    "        b_cloud = b_cloud.T[:3, :]\n",
    "        \n",
    "        return a_cloud, b_cloud, R_ab, T_ab, R_ba, T_ba, E_ab.flatten(), E_ba.flatten()\n",
    "        \n",
    "    \n",
    "    def __len__(self):\n",
    "        return len(self._data) - 1\n",
    "        "
   ]
  },
  {
   "cell_type": "code",
   "execution_count": 38,
   "metadata": {},
   "outputs": [],
   "source": [
    "dataset = OdometryDataset(basedir, sequence, 1000)"
   ]
  },
  {
   "cell_type": "code",
   "execution_count": 40,
   "metadata": {},
   "outputs": [
    {
     "name": "stdout",
     "output_type": "stream",
     "text": [
      "[[ 69.86689     69.464485    69.461075   ... -44.651432   -44.70857\n",
      "  -44.749844  ]\n",
      " [  0.5877604    0.8026724    1.0205835  ...  -0.32381812  -0.39586148\n",
      "   -0.53787684]\n",
      " [  2.57187      2.5578227    2.5577748  ...   1.7166728    1.7186664\n",
      "    1.7196941 ]]\n",
      "\n",
      "[[ 69.12951     68.6691      68.69989    ... -50.025566   -50.12413\n",
      "  -47.027775  ]\n",
      " [  0.25589645   0.4698096    0.5777659  ...   0.71103007   0.5561565\n",
      "    0.37514564]\n",
      " [  2.5469437    2.5308967    2.5318732  ...   1.9065845    1.9096221\n",
      "    1.8028474 ]]\n",
      "\n",
      "[[-1.590000e-05  5.120050e-04 -2.064927e-03]\n",
      " [-5.287120e-04 -5.600000e-06 -1.153120e-03]\n",
      " [ 2.060695e-03  1.160670e-03 -1.960000e-05]]\n",
      "\n",
      "[-0.0468429  -0.02836258  0.857684  ]\n",
      "\n",
      "[[ 1.590000e-05 -5.120050e-04  2.064927e-03]\n",
      " [ 5.287120e-04  5.600000e-06  1.153120e-03]\n",
      " [-2.060695e-03 -1.160670e-03  1.960000e-05]]\n",
      "\n",
      "[ 0.0468429   0.02836258 -0.857684  ]\n",
      "\n",
      "[ 179.99913     -0.4727446 -179.99808  ]\n",
      "\n",
      "[-0.2646417   0.4730122   0.11816004]\n",
      "\n"
     ]
    }
   ],
   "source": [
    "for c in dataset[3]:\n",
    "    print(c)\n",
    "    print()"
   ]
  },
  {
   "cell_type": "code",
   "execution_count": null,
   "metadata": {},
   "outputs": [],
   "source": []
  },
  {
   "cell_type": "code",
   "execution_count": null,
   "metadata": {},
   "outputs": [],
   "source": []
  }
 ],
 "metadata": {
  "kernelspec": {
   "display_name": "Python 3",
   "language": "python",
   "name": "python3"
  },
  "language_info": {
   "codemirror_mode": {
    "name": "ipython",
    "version": 3
   },
   "file_extension": ".py",
   "mimetype": "text/x-python",
   "name": "python",
   "nbconvert_exporter": "python",
   "pygments_lexer": "ipython3",
   "version": "3.7.3"
  }
 },
 "nbformat": 4,
 "nbformat_minor": 4
}
