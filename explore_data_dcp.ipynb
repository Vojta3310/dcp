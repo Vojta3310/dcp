{
 "cells": [
  {
   "cell_type": "code",
   "execution_count": 2,
   "metadata": {},
   "outputs": [],
   "source": [
    "import data"
   ]
  },
  {
   "cell_type": "code",
   "execution_count": 4,
   "metadata": {},
   "outputs": [],
   "source": [
    "datas, label = data.load_data('train')"
   ]
  },
  {
   "cell_type": "code",
   "execution_count": 5,
   "metadata": {},
   "outputs": [
    {
     "data": {
      "text/plain": [
       "((9840, 2048, 3), (9840, 1))"
      ]
     },
     "execution_count": 5,
     "metadata": {},
     "output_type": "execute_result"
    }
   ],
   "source": [
    "datas.shape, label.shape"
   ]
  },
  {
   "cell_type": "code",
   "execution_count": null,
   "metadata": {},
   "outputs": [],
   "source": []
  },
  {
   "cell_type": "code",
   "execution_count": 6,
   "metadata": {},
   "outputs": [],
   "source": [
    "dataset = data.ModelNet40(1000)"
   ]
  },
  {
   "cell_type": "code",
   "execution_count": 7,
   "metadata": {},
   "outputs": [
    {
     "data": {
      "text/plain": [
       "9840"
      ]
     },
     "execution_count": 7,
     "metadata": {},
     "output_type": "execute_result"
    }
   ],
   "source": [
    "len(dataset)"
   ]
  },
  {
   "cell_type": "code",
   "execution_count": 8,
   "metadata": {},
   "outputs": [
    {
     "data": {
      "text/plain": [
       "(tuple, 8, numpy.ndarray, (3, 1000))"
      ]
     },
     "execution_count": 8,
     "metadata": {},
     "output_type": "execute_result"
    }
   ],
   "source": [
    "type(dataset[0]), len(dataset[0]), type(dataset[0][0]), dataset[0][0].shape"
   ]
  },
  {
   "cell_type": "code",
   "execution_count": 9,
   "metadata": {},
   "outputs": [
    {
     "name": "stdout",
     "output_type": "stream",
     "text": [
      "dataset[0][0]: (3, 1000)\n",
      "dataset[0][1]: (3, 1000)\n",
      "dataset[0][2]: (3, 3)\n",
      "dataset[0][3]: (3,)\n",
      "dataset[0][4]: (3, 3)\n",
      "dataset[0][5]: (3,)\n",
      "dataset[0][6]: (3,)\n",
      "dataset[0][7]: (3,)\n"
     ]
    }
   ],
   "source": [
    "for i in range(8):\n",
    "    print(\"dataset[0][{}]: {}\".format(i, dataset[0][i].shape))"
   ]
  },
  {
   "cell_type": "markdown",
   "metadata": {},
   "source": [
    "pointcloud1.astype(\"float32\"),\n",
    "pointcloud2.astype(\"float32\"),\n",
    "R_ab.astype(\"float32\"),\n",
    "translation_ab.astype(\"float32\"),\n",
    "R_ba.astype(\"float32\"),\n",
    "translation_ba.astype(\"float32\"),\n",
    "euler_ab.astype(\"float32\"),\n",
    "euler_ba.astype(\"float32\"),"
   ]
  }
 ],
 "metadata": {
  "kernelspec": {
   "display_name": "Python 3",
   "language": "python",
   "name": "python3"
  },
  "language_info": {
   "codemirror_mode": {
    "name": "ipython",
    "version": 3
   },
   "file_extension": ".py",
   "mimetype": "text/x-python",
   "name": "python",
   "nbconvert_exporter": "python",
   "pygments_lexer": "ipython3",
   "version": "3.7.3"
  }
 },
 "nbformat": 4,
 "nbformat_minor": 4
}
