{
 "cells": [
  {
   "cell_type": "code",
   "execution_count": 1,
   "metadata": {},
   "outputs": [],
   "source": [
    "import pandas as pd\n",
    "import numpy as np\n",
    "import pykitti"
   ]
  },
  {
   "cell_type": "code",
   "execution_count": 2,
   "metadata": {},
   "outputs": [],
   "source": [
    "basedir = 'dataset/'\n",
    "sequence = '00'\n",
    "drive = '0019'\n",
    "data = pykitti.odometry(basedir, sequence)"
   ]
  },
  {
   "cell_type": "code",
   "execution_count": 3,
   "metadata": {},
   "outputs": [
    {
     "data": {
      "text/plain": [
       "4541"
      ]
     },
     "execution_count": 3,
     "metadata": {},
     "output_type": "execute_result"
    }
   ],
   "source": [
    "len(data)"
   ]
  },
  {
   "cell_type": "code",
   "execution_count": 4,
   "metadata": {},
   "outputs": [
    {
     "data": {
      "text/plain": [
       "6"
      ]
     },
     "execution_count": 4,
     "metadata": {},
     "output_type": "execute_result"
    }
   ],
   "source": [
    "len(list(data.velo))"
   ]
  },
  {
   "cell_type": "code",
   "execution_count": 5,
   "metadata": {},
   "outputs": [
    {
     "name": "stdout",
     "output_type": "stream",
     "text": [
      "0 (124668, 4)\n",
      "1 (124605, 4)\n",
      "2 (124478, 4)\n",
      "3 (124167, 4)\n",
      "4 (123969, 4)\n",
      "5 (123924, 4)\n"
     ]
    }
   ],
   "source": [
    "for i, velodata in enumerate(data.velo):\n",
    "    df = pd.DataFrame(velodata, columns=['x', 'y', 'z', 'reflectance'])\n",
    "    df = df.drop(columns=['reflectance'])\n",
    "    ref_series = pd.Series(np.ones((len(df)), dtype=np.float32), name='reference')\n",
    "    df = pd.concat((df, ref_series), axis=1)\n",
    "    print(i, df.shape)"
   ]
  },
  {
   "cell_type": "code",
   "execution_count": 11,
   "metadata": {},
   "outputs": [
    {
     "data": {
      "text/html": [
       "<div>\n",
       "<style scoped>\n",
       "    .dataframe tbody tr th:only-of-type {\n",
       "        vertical-align: middle;\n",
       "    }\n",
       "\n",
       "    .dataframe tbody tr th {\n",
       "        vertical-align: top;\n",
       "    }\n",
       "\n",
       "    .dataframe thead th {\n",
       "        text-align: right;\n",
       "    }\n",
       "</style>\n",
       "<table border=\"1\" class=\"dataframe\">\n",
       "  <thead>\n",
       "    <tr style=\"text-align: right;\">\n",
       "      <th></th>\n",
       "      <th>x</th>\n",
       "      <th>y</th>\n",
       "      <th>z</th>\n",
       "      <th>reference</th>\n",
       "    </tr>\n",
       "  </thead>\n",
       "  <tbody>\n",
       "    <tr>\n",
       "      <th>count</th>\n",
       "      <td>123924.000000</td>\n",
       "      <td>123924.000000</td>\n",
       "      <td>123924.000000</td>\n",
       "      <td>123924.0</td>\n",
       "    </tr>\n",
       "    <tr>\n",
       "      <th>mean</th>\n",
       "      <td>-1.278023</td>\n",
       "      <td>1.219171</td>\n",
       "      <td>-1.164525</td>\n",
       "      <td>1.0</td>\n",
       "    </tr>\n",
       "    <tr>\n",
       "      <th>std</th>\n",
       "      <td>13.982530</td>\n",
       "      <td>9.039235</td>\n",
       "      <td>0.849468</td>\n",
       "      <td>0.0</td>\n",
       "    </tr>\n",
       "    <tr>\n",
       "      <th>min</th>\n",
       "      <td>-77.548553</td>\n",
       "      <td>-41.430107</td>\n",
       "      <td>-10.202361</td>\n",
       "      <td>1.0</td>\n",
       "    </tr>\n",
       "    <tr>\n",
       "      <th>25%</th>\n",
       "      <td>-5.962987</td>\n",
       "      <td>-5.930773</td>\n",
       "      <td>-1.789791</td>\n",
       "      <td>1.0</td>\n",
       "    </tr>\n",
       "    <tr>\n",
       "      <th>50%</th>\n",
       "      <td>-0.004850</td>\n",
       "      <td>0.440319</td>\n",
       "      <td>-1.546659</td>\n",
       "      <td>1.0</td>\n",
       "    </tr>\n",
       "    <tr>\n",
       "      <th>75%</th>\n",
       "      <td>5.130324</td>\n",
       "      <td>7.070337</td>\n",
       "      <td>-0.597807</td>\n",
       "      <td>1.0</td>\n",
       "    </tr>\n",
       "    <tr>\n",
       "      <th>max</th>\n",
       "      <td>78.125435</td>\n",
       "      <td>44.004108</td>\n",
       "      <td>2.881527</td>\n",
       "      <td>1.0</td>\n",
       "    </tr>\n",
       "  </tbody>\n",
       "</table>\n",
       "</div>"
      ],
      "text/plain": [
       "                   x              y              z  reference\n",
       "count  123924.000000  123924.000000  123924.000000   123924.0\n",
       "mean       -1.278023       1.219171      -1.164525        1.0\n",
       "std        13.982530       9.039235       0.849468        0.0\n",
       "min       -77.548553     -41.430107     -10.202361        1.0\n",
       "25%        -5.962987      -5.930773      -1.789791        1.0\n",
       "50%        -0.004850       0.440319      -1.546659        1.0\n",
       "75%         5.130324       7.070337      -0.597807        1.0\n",
       "max        78.125435      44.004108       2.881527        1.0"
      ]
     },
     "execution_count": 11,
     "metadata": {},
     "output_type": "execute_result"
    }
   ],
   "source": [
    "df.describe()"
   ]
  },
  {
   "cell_type": "code",
   "execution_count": null,
   "metadata": {},
   "outputs": [],
   "source": []
  },
  {
   "cell_type": "code",
   "execution_count": 6,
   "metadata": {},
   "outputs": [
    {
     "data": {
      "text/plain": [
       "array([[ 1.000000e+00,  9.043680e-12,  2.326809e-11,  5.551115e-17],\n",
       "       [ 9.043683e-12,  1.000000e+00,  2.392370e-10,  3.330669e-16],\n",
       "       [ 2.326810e-11,  2.392370e-10,  9.999999e-01, -4.440892e-16],\n",
       "       [ 0.000000e+00,  0.000000e+00,  0.000000e+00,  1.000000e+00]])"
      ]
     },
     "execution_count": 6,
     "metadata": {},
     "output_type": "execute_result"
    }
   ],
   "source": [
    "pose = data.poses[0]\n",
    "pose"
   ]
  },
  {
   "cell_type": "code",
   "execution_count": 7,
   "metadata": {},
   "outputs": [
    {
     "data": {
      "text/plain": [
       "array([[1.000000e+00, 9.043680e-12, 2.326809e-11],\n",
       "       [9.043683e-12, 1.000000e+00, 2.392370e-10],\n",
       "       [2.326810e-11, 2.392370e-10, 9.999999e-01]])"
      ]
     },
     "execution_count": 7,
     "metadata": {},
     "output_type": "execute_result"
    }
   ],
   "source": [
    "pose[:3, :3]"
   ]
  },
  {
   "cell_type": "code",
   "execution_count": 8,
   "metadata": {},
   "outputs": [
    {
     "data": {
      "text/plain": [
       "array([ 5.551115e-17,  3.330669e-16, -4.440892e-16,  1.000000e+00])"
      ]
     },
     "execution_count": 8,
     "metadata": {},
     "output_type": "execute_result"
    }
   ],
   "source": [
    "pose[:, 3]"
   ]
  },
  {
   "cell_type": "code",
   "execution_count": null,
   "metadata": {},
   "outputs": [],
   "source": []
  },
  {
   "cell_type": "code",
   "execution_count": null,
   "metadata": {},
   "outputs": [],
   "source": []
  },
  {
   "cell_type": "code",
   "execution_count": 9,
   "metadata": {},
   "outputs": [
    {
     "data": {
      "text/plain": [
       "dict_keys(['sequence', 'sequence_path', 'pose_path', 'frames', 'imtype', 'cam0_files', 'cam1_files', 'cam2_files', 'cam3_files', 'velo_files', 'calib', 'timestamps', 'poses'])"
      ]
     },
     "execution_count": 9,
     "metadata": {},
     "output_type": "execute_result"
    }
   ],
   "source": [
    "vars(data).keys()"
   ]
  },
  {
   "cell_type": "code",
   "execution_count": null,
   "metadata": {},
   "outputs": [],
   "source": []
  }
 ],
 "metadata": {
  "kernelspec": {
   "display_name": "Python 3",
   "language": "python",
   "name": "python3"
  },
  "language_info": {
   "codemirror_mode": {
    "name": "ipython",
    "version": 3
   },
   "file_extension": ".py",
   "mimetype": "text/x-python",
   "name": "python",
   "nbconvert_exporter": "python",
   "pygments_lexer": "ipython3",
   "version": "3.7.3"
  }
 },
 "nbformat": 4,
 "nbformat_minor": 4
}
